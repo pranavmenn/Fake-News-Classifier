{
 "cells": [
  {
   "cell_type": "code",
   "execution_count": 2,
   "metadata": {},
   "outputs": [],
   "source": [
    "import pandas as pd\n",
    "import numpy as np\n",
    "import matplotlib.pyplot as plt\n",
    "import re\n",
    "import seaborn as sb\n",
    "%matplotlib inline\n",
    "%config InlineBackend.figure_format = 'retina'"
   ]
  },
  {
   "cell_type": "code",
   "execution_count": 3,
   "metadata": {},
   "outputs": [],
   "source": [
    "df  = pd.read_csv('C:\\\\Users\\\\Intel\\\\Desktop\\\\train.csv')"
   ]
  },
  {
   "cell_type": "code",
   "execution_count": 4,
   "metadata": {},
   "outputs": [
    {
     "name": "stdout",
     "output_type": "stream",
     "text": [
      "<class 'pandas.core.frame.DataFrame'>\n",
      "RangeIndex: 10240 entries, 0 to 10239\n",
      "Data columns (total 2 columns):\n",
      "Statement    10240 non-null object\n",
      "Label        10240 non-null bool\n",
      "dtypes: bool(1), object(1)\n",
      "memory usage: 90.1+ KB\n"
     ]
    }
   ],
   "source": [
    "df.info()"
   ]
  },
  {
   "cell_type": "code",
   "execution_count": 5,
   "metadata": {},
   "outputs": [
    {
     "data": {
      "text/html": [
       "<div>\n",
       "<style scoped>\n",
       "    .dataframe tbody tr th:only-of-type {\n",
       "        vertical-align: middle;\n",
       "    }\n",
       "\n",
       "    .dataframe tbody tr th {\n",
       "        vertical-align: top;\n",
       "    }\n",
       "\n",
       "    .dataframe thead th {\n",
       "        text-align: right;\n",
       "    }\n",
       "</style>\n",
       "<table border=\"1\" class=\"dataframe\">\n",
       "  <thead>\n",
       "    <tr style=\"text-align: right;\">\n",
       "      <th></th>\n",
       "      <th>Statement</th>\n",
       "      <th>Label</th>\n",
       "    </tr>\n",
       "  </thead>\n",
       "  <tbody>\n",
       "    <tr>\n",
       "      <th>0</th>\n",
       "      <td>Says the Annies List political group supports ...</td>\n",
       "      <td>False</td>\n",
       "    </tr>\n",
       "    <tr>\n",
       "      <th>1</th>\n",
       "      <td>When did the decline of coal start? It started...</td>\n",
       "      <td>True</td>\n",
       "    </tr>\n",
       "    <tr>\n",
       "      <th>2</th>\n",
       "      <td>Hillary Clinton agrees with John McCain \"by vo...</td>\n",
       "      <td>True</td>\n",
       "    </tr>\n",
       "    <tr>\n",
       "      <th>3</th>\n",
       "      <td>Health care reform legislation is likely to ma...</td>\n",
       "      <td>False</td>\n",
       "    </tr>\n",
       "    <tr>\n",
       "      <th>4</th>\n",
       "      <td>The economic turnaround started at the end of ...</td>\n",
       "      <td>True</td>\n",
       "    </tr>\n",
       "  </tbody>\n",
       "</table>\n",
       "</div>"
      ],
      "text/plain": [
       "                                           Statement  Label\n",
       "0  Says the Annies List political group supports ...  False\n",
       "1  When did the decline of coal start? It started...   True\n",
       "2  Hillary Clinton agrees with John McCain \"by vo...   True\n",
       "3  Health care reform legislation is likely to ma...  False\n",
       "4  The economic turnaround started at the end of ...   True"
      ]
     },
     "execution_count": 5,
     "metadata": {},
     "output_type": "execute_result"
    }
   ],
   "source": [
    "df.head()"
   ]
  },
  {
   "cell_type": "code",
   "execution_count": 6,
   "metadata": {},
   "outputs": [],
   "source": [
    "corpus=df.Statement.values"
   ]
  },
  {
   "cell_type": "code",
   "execution_count": 7,
   "metadata": {},
   "outputs": [
    {
     "data": {
      "text/plain": [
       "(10240, 2)"
      ]
     },
     "execution_count": 7,
     "metadata": {},
     "output_type": "execute_result"
    }
   ],
   "source": [
    "df.shape"
   ]
  },
  {
   "cell_type": "code",
   "execution_count": 8,
   "metadata": {},
   "outputs": [],
   "source": [
    "from sklearn.feature_extraction.text import CountVectorizer"
   ]
  },
  {
   "cell_type": "code",
   "execution_count": 9,
   "metadata": {},
   "outputs": [],
   "source": [
    "count_vect = CountVectorizer()\n",
    "count_vect = count_vect.fit(df)\n",
    "freq_term_matrix = count_vect.transform(df)"
   ]
  },
  {
   "cell_type": "code",
   "execution_count": 10,
   "metadata": {},
   "outputs": [],
   "source": [
    "from sklearn.feature_extraction.text import TfidfTransformer"
   ]
  },
  {
   "cell_type": "code",
   "execution_count": 11,
   "metadata": {},
   "outputs": [
    {
     "data": {
      "text/plain": [
       "TfidfTransformer(norm='l2', smooth_idf=True, sublinear_tf=False, use_idf=True)"
      ]
     },
     "execution_count": 11,
     "metadata": {},
     "output_type": "execute_result"
    }
   ],
   "source": [
    "tfidf = TfidfTransformer(norm=\"l2\")\n",
    "tfidf.fit(freq_term_matrix)"
   ]
  },
  {
   "cell_type": "code",
   "execution_count": 12,
   "metadata": {},
   "outputs": [],
   "source": [
    "doc_freq_term = count_vect.transform(df)"
   ]
  },
  {
   "cell_type": "code",
   "execution_count": 13,
   "metadata": {},
   "outputs": [],
   "source": [
    "doc_tfidf_matrix = tfidf.transform(doc_freq_term)"
   ]
  },
  {
   "cell_type": "code",
   "execution_count": 14,
   "metadata": {},
   "outputs": [],
   "source": [
    "import nltk"
   ]
  },
  {
   "cell_type": "code",
   "execution_count": 15,
   "metadata": {},
   "outputs": [],
   "source": [
    "words=nltk.pos_tag(df)"
   ]
  },
  {
   "cell_type": "code",
   "execution_count": 16,
   "metadata": {},
   "outputs": [
    {
     "name": "stdout",
     "output_type": "stream",
     "text": [
      "[('Statement', 'NN'), ('Label', 'NNP')]\n"
     ]
    }
   ],
   "source": [
    "print(words)"
   ]
  },
  {
   "cell_type": "code",
   "execution_count": 17,
   "metadata": {},
   "outputs": [],
   "source": [
    "from nltk import pos_tag"
   ]
  },
  {
   "cell_type": "code",
   "execution_count": 18,
   "metadata": {},
   "outputs": [],
   "source": [
    "tagged_statements=df['Statement']"
   ]
  },
  {
   "cell_type": "code",
   "execution_count": 19,
   "metadata": {},
   "outputs": [
    {
     "data": {
      "text/plain": [
       "0        Says the Annies List political group supports ...\n",
       "1        When did the decline of coal start? It started...\n",
       "2        Hillary Clinton agrees with John McCain \"by vo...\n",
       "3        Health care reform legislation is likely to ma...\n",
       "4        The economic turnaround started at the end of ...\n",
       "5        The Chicago Bears have had more starting quart...\n",
       "6        Jim Dunnam has not lived in the district he re...\n",
       "7        I'm the only person on this stage who has work...\n",
       "8        However, it took $19.5 million in Oregon Lotte...\n",
       "9        Says GOP primary opponents Glenn Grothman and ...\n",
       "10       For the first time in history, the share of th...\n",
       "11       Since 2000, nearly 12 million Americans have s...\n",
       "12       When Mitt Romney was governor of Massachusetts...\n",
       "13       The economy bled $24 billion due to the govern...\n",
       "14       Most of the (Affordable Care Act) has already ...\n",
       "15       In this last election in November, ... 63 perc...\n",
       "16       McCain opposed a requirement that the governme...\n",
       "17       U.S. Rep. Ron Kind, D-Wis., and his fellow Dem...\n",
       "18       Water rates in Manila, Philippines, were raise...\n",
       "19       Almost 100,000 people left Puerto Rico last year.\n",
       "20       Women and men both are making less when you ad...\n",
       "21       The United States has the highest corporate ta...\n",
       "22       We just had the best year for the auto industr...\n",
       "23       Says Scott Walker favors cutting up to 350,000...\n",
       "24       Says Mitt Romney wants to get rid of Planned P...\n",
       "25                   I dont know who (Jonathan Gruber) is.\n",
       "26       Hate crimes against American Muslims and mosqu...\n",
       "27       Rick Perry has never lost an election and rema...\n",
       "28       ISIS supporter tweeted at 10:34 a.m. Shooting ...\n",
       "29       Youth unemployment in minority communities is ...\n",
       "                               ...                        \n",
       "10210    Since the Affordable Care Act passed, 90 perce...\n",
       "10211    Debt has almost doubled in Austin under Gov. P...\n",
       "10212    Lets say (Republicans) take away half of our d...\n",
       "10213    Theres a tremendous other number of public off...\n",
       "10214    Under last years health care reform, a bunch o...\n",
       "10215    The Obama administration spent $205,075 in sti...\n",
       "10216    There has been no net global warming for over ...\n",
       "10217    Thanks to the Obama administrations negotiatio...\n",
       "10218    This race will be the Democrats top target thi...\n",
       "10219    Georgia Public Service Commission member Stan ...\n",
       "10220    Says he and Mitt Romney agreed on tying minimu...\n",
       "10221    As a result of Obamacare, California seniors f...\n",
       "10222    For the first time since the Korean War, total...\n",
       "10223    Says Rick Perry turned down our invitation to ...\n",
       "10224    In 2012, the state put together a list of over...\n",
       "10225    The Republican Party lost 1.1 million register...\n",
       "10226    The proudest accomplishment (of my tenure) was...\n",
       "10227    Recently though, the media has reported on tho...\n",
       "10228    Stopped by Smiley Cookie to pick up some great...\n",
       "10229     Mike Trainor...still owes $250,000 to the state.\n",
       "10230    The Supreme Courts views are radically out of ...\n",
       "10231    When it comes to the state deficit, Wisconsin ...\n",
       "10232    Eighty percent of the net new jobs created in ...\n",
       "10233    Mayor Fung wants to punish our childrens educa...\n",
       "10234    Under the ruling of the Supreme Court, any lob...\n",
       "10235    There are a larger number of shark attacks in ...\n",
       "10236    Democrats have now become the party of the [At...\n",
       "10237    Says an alternative to Social Security that op...\n",
       "10238    On lifting the U.S. Cuban embargo and allowing...\n",
       "10239    The Department of Veterans Affairs has a manua...\n",
       "Name: Statement, Length: 10240, dtype: object"
      ]
     },
     "execution_count": 19,
     "metadata": {},
     "output_type": "execute_result"
    }
   ],
   "source": [
    "tagged_statements"
   ]
  },
  {
   "cell_type": "code",
   "execution_count": 20,
   "metadata": {},
   "outputs": [],
   "source": [
    "tagged_statements=df['Statement'].str.split().map(pos_tag)"
   ]
  },
  {
   "cell_type": "code",
   "execution_count": 21,
   "metadata": {},
   "outputs": [
    {
     "data": {
      "text/plain": [
       "0    [(Says, VBZ), (the, DT), (Annies, NNPS), (List...\n",
       "1    [(When, WRB), (did, VBD), (the, DT), (decline,...\n",
       "2    [(Hillary, NNP), (Clinton, NNP), (agrees, VBZ)...\n",
       "3    [(Health, NNP), (care, NN), (reform, NN), (leg...\n",
       "4    [(The, DT), (economic, JJ), (turnaround, NN), ...\n",
       "Name: Statement, dtype: object"
      ]
     },
     "execution_count": 21,
     "metadata": {},
     "output_type": "execute_result"
    }
   ],
   "source": [
    "tagged_statements.head()"
   ]
  },
  {
   "cell_type": "code",
   "execution_count": 22,
   "metadata": {},
   "outputs": [],
   "source": [
    "def count_tags(title_with_tags):\n",
    "    tag_count = {}\n",
    "    for word, tag in title_with_tags:\n",
    "        if tag in tag_count:\n",
    "            tag_count[tag] += 1\n",
    "        else:\n",
    "            tag_count[tag] = 1\n",
    "    return(tag_count)"
   ]
  },
  {
   "cell_type": "code",
   "execution_count": 23,
   "metadata": {},
   "outputs": [
    {
     "data": {
      "text/html": [
       "<div>\n",
       "<style scoped>\n",
       "    .dataframe tbody tr th:only-of-type {\n",
       "        vertical-align: middle;\n",
       "    }\n",
       "\n",
       "    .dataframe tbody tr th {\n",
       "        vertical-align: top;\n",
       "    }\n",
       "\n",
       "    .dataframe thead th {\n",
       "        text-align: right;\n",
       "    }\n",
       "</style>\n",
       "<table border=\"1\" class=\"dataframe\">\n",
       "  <thead>\n",
       "    <tr style=\"text-align: right;\">\n",
       "      <th></th>\n",
       "      <th>Statement</th>\n",
       "      <th>tag_counts</th>\n",
       "    </tr>\n",
       "  </thead>\n",
       "  <tbody>\n",
       "    <tr>\n",
       "      <th>0</th>\n",
       "      <td>[(Says, VBZ), (the, DT), (Annies, NNPS), (List...</td>\n",
       "      <td>{'VBZ': 2, 'DT': 1, 'NNPS': 1, 'NNP': 1, 'JJ':...</td>\n",
       "    </tr>\n",
       "    <tr>\n",
       "      <th>1</th>\n",
       "      <td>[(When, WRB), (did, VBD), (the, DT), (decline,...</td>\n",
       "      <td>{'WRB': 2, 'VBD': 4, 'DT': 1, 'NN': 5, 'IN': 3...</td>\n",
       "    </tr>\n",
       "    <tr>\n",
       "      <th>2</th>\n",
       "      <td>[(Hillary, NNP), (Clinton, NNP), (agrees, VBZ)...</td>\n",
       "      <td>{'NNP': 8, 'VBZ': 1, 'IN': 3, 'VBG': 1, 'TO': ...</td>\n",
       "    </tr>\n",
       "    <tr>\n",
       "      <th>3</th>\n",
       "      <td>[(Health, NNP), (care, NN), (reform, NN), (leg...</td>\n",
       "      <td>{'NNP': 1, 'NN': 6, 'VBZ': 1, 'JJ': 2, 'TO': 1...</td>\n",
       "    </tr>\n",
       "    <tr>\n",
       "      <th>4</th>\n",
       "      <td>[(The, DT), (economic, JJ), (turnaround, NN), ...</td>\n",
       "      <td>{'DT': 2, 'JJ': 1, 'NN': 3, 'VBD': 1, 'IN': 2,...</td>\n",
       "    </tr>\n",
       "  </tbody>\n",
       "</table>\n",
       "</div>"
      ],
      "text/plain": [
       "                                           Statement  \\\n",
       "0  [(Says, VBZ), (the, DT), (Annies, NNPS), (List...   \n",
       "1  [(When, WRB), (did, VBD), (the, DT), (decline,...   \n",
       "2  [(Hillary, NNP), (Clinton, NNP), (agrees, VBZ)...   \n",
       "3  [(Health, NNP), (care, NN), (reform, NN), (leg...   \n",
       "4  [(The, DT), (economic, JJ), (turnaround, NN), ...   \n",
       "\n",
       "                                          tag_counts  \n",
       "0  {'VBZ': 2, 'DT': 1, 'NNPS': 1, 'NNP': 1, 'JJ':...  \n",
       "1  {'WRB': 2, 'VBD': 4, 'DT': 1, 'NN': 5, 'IN': 3...  \n",
       "2  {'NNP': 8, 'VBZ': 1, 'IN': 3, 'VBG': 1, 'TO': ...  \n",
       "3  {'NNP': 1, 'NN': 6, 'VBZ': 1, 'JJ': 2, 'TO': 1...  \n",
       "4  {'DT': 2, 'JJ': 1, 'NN': 3, 'VBD': 1, 'IN': 2,...  "
      ]
     },
     "execution_count": 23,
     "metadata": {},
     "output_type": "execute_result"
    }
   ],
   "source": [
    "tagged_statements = pd.DataFrame(tagged_statements)\n",
    "tagged_statements['tag_counts'] = tagged_statements['Statement'].map(count_tags)\n",
    "tagged_statements.head()"
   ]
  },
  {
   "cell_type": "code",
   "execution_count": null,
   "metadata": {},
   "outputs": [],
   "source": []
  }
 ],
 "metadata": {
  "kernelspec": {
   "display_name": "Python 3",
   "language": "python",
   "name": "python3"
  },
  "language_info": {
   "codemirror_mode": {
    "name": "ipython",
    "version": 3
   },
   "file_extension": ".py",
   "mimetype": "text/x-python",
   "name": "python",
   "nbconvert_exporter": "python",
   "pygments_lexer": "ipython3",
   "version": "3.7.0"
  }
 },
 "nbformat": 4,
 "nbformat_minor": 2
}
